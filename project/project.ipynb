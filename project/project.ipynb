{
 "cells": [
  {
   "cell_type": "markdown",
   "metadata": {},
   "source": [
    "### Imports"
   ]
  },
  {
   "cell_type": "code",
   "execution_count": null,
   "metadata": {},
   "outputs": [],
   "source": [
    "from agents.fact_checker_agent import FactCheckerAgent\n",
    "from network.socialnetwork import SocialNetworkEnv\n",
    "from agents.news_agent import NewsAgent\n",
    "import numpy as np"
   ]
  },
  {
   "cell_type": "markdown",
   "metadata": {},
   "source": [
    "### Setup"
   ]
  },
  {
   "cell_type": "code",
   "execution_count": null,
   "metadata": {},
   "outputs": [],
   "source": [
    "network = SocialNetworkEnv(numConsumer=4)\n",
    "\n",
    "# created a fake and real info agent and add a few consumers to the network\n",
    "fAgent = NewsAgent(\"fake-information\", state_space_size=2, env=network, trustLevel=0)\n",
    "# fAgent2 = NewsAgent(\"fake-information\", state_space_size=2, env=network, trustLevel=0)\n",
    "# fAgent3 = NewsAgent(\"fake-information\", state_space_size=2, env=network, trustLevel=0)\n",
    "rAgent = NewsAgent(\"real-information\", state_space_size=2, env=network, trustLevel=0)\n",
    "fcAgent = FactCheckerAgent(\"fact-checker\", trustLevel=0.0, env=network)\n",
    "\n",
    "network.add_news_agents_to_network(agentType=fAgent)\n",
    "\n",
    "# network.add_news_agents_to_network(agentType=fAgent2)\n",
    "# network.add_news_agents_to_network(agentType=fAgent3)\n",
    "network.add_news_agents_to_network(agentType=rAgent)\n",
    "network.add_fact_checker_to_network(agentType=fcAgent)\n",
    "\n",
    "# print(\"---------------- Initial Graph ---------------\")\n",
    "network.print_graph()"
   ]
  },
  {
   "cell_type": "markdown",
   "metadata": {},
   "source": [
    "### Training"
   ]
  },
  {
   "cell_type": "code",
   "execution_count": null,
   "metadata": {},
   "outputs": [],
   "source": [
    "for i in range(network.network_size):\n",
    "    print(f\"\\n--------- epoch {i} ---------------------\")\n",
    "\n",
    "    fAgent_action = network.draw_sample_from_action_space()\n",
    "    fAgent_action2 = network.draw_sample_from_action_space()\n",
    "    fAgent_action3 = network.draw_sample_from_action_space()\n",
    "    rAgent_action = network.draw_sample_from_action_space()\n",
    "    print('action', fAgent_action)\n",
    "\n",
    "    print(\"Trust Levels:\")\n",
    "    print(\"Fake Agent: \", end=\"\")\n",
    "    reward, penalty = network.step(fAgent_action, fAgent)\n",
    "\n",
    "    # print(\"Fake Agent 2: \", end=\"\")\n",
    "    # reward22, penalty22 = network.step(fAgent_action2, fAgent2)\n",
    "    \n",
    "    # print(\"Fake Agent 3: \", end=\"\")\n",
    "    # reward3, penalty3 = network.step(fAgent_action3, fAgent3)\n",
    "\n",
    "    # print(\"Real Agent: \", end=\"\")\n",
    "    # reward2, penalty2 = network.step(rAgent_action, rAgent)\n",
    "\n",
    "    network.step_fact_checker(fcAgent, threshold=0.1)\n",
    "\n",
    "    # network.render()\n",
    "    # network.print_graph()\n",
    "\n",
    "    # print(f\"\\nfake info - reward: {reward}, penalty : {penalty}\")\n",
    "    # print(f\"\\nfake info 2 - reward: {reward22}, penalty : {penalty22}\")\n",
    "    # print(f\"\\nfake info 3 - reward: {reward3}, penalty : {penalty3}\")\n",
    "    # print(f\"real info - reward: {reward2}, penalty : {penalty2}\")\n",
    "    # print(f\"fact checker - reward: {fcAgent.reward} penalty: {fcAgent.penalty}\")\n"
   ]
  }
 ],
 "metadata": {
  "kernelspec": {
   "display_name": "venv",
   "language": "python",
   "name": "python3"
  },
  "language_info": {
   "codemirror_mode": {
    "name": "ipython",
    "version": 3
   },
   "file_extension": ".py",
   "mimetype": "text/x-python",
   "name": "python",
   "nbconvert_exporter": "python",
   "pygments_lexer": "ipython3",
   "version": "3.12.4"
  }
 },
 "nbformat": 4,
 "nbformat_minor": 2
}
