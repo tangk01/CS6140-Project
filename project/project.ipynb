{
 "cells": [
  {
   "cell_type": "markdown",
   "metadata": {},
   "source": [
    "### Imports"
   ]
  },
  {
   "cell_type": "code",
   "execution_count": 1,
   "metadata": {},
   "outputs": [],
   "source": [
    "from agents.fact_checker_agent import FactCheckerAgent\n",
    "from network.socialnetwork import SocialNetworkEnv\n",
    "from agents.news_agent import NewsAgent\n",
    "import numpy as np"
   ]
  },
  {
   "cell_type": "markdown",
   "metadata": {},
   "source": [
    "### Setup"
   ]
  },
  {
   "cell_type": "code",
   "execution_count": null,
   "metadata": {},
   "outputs": [
    {
     "ename": "TypeError",
     "evalue": "FactCheckerAgent.__init__() missing 1 required positional argument: 'trustLevel'",
     "output_type": "error",
     "traceback": [
      "\u001b[0;31m---------------------------------------------------------------------------\u001b[0m",
      "\u001b[0;31mTypeError\u001b[0m                                 Traceback (most recent call last)",
      "Cell \u001b[0;32mIn[2], line 6\u001b[0m\n\u001b[1;32m      4\u001b[0m fAgent \u001b[38;5;241m=\u001b[39m NewsAgent(\u001b[38;5;124m\"\u001b[39m\u001b[38;5;124mfake-information\u001b[39m\u001b[38;5;124m\"\u001b[39m, state_space_size\u001b[38;5;241m=\u001b[39m\u001b[38;5;241m2\u001b[39m, env\u001b[38;5;241m=\u001b[39mnetwork, trustLevel\u001b[38;5;241m=\u001b[39m\u001b[38;5;241m0\u001b[39m)\n\u001b[1;32m      5\u001b[0m rAgent \u001b[38;5;241m=\u001b[39m NewsAgent(\u001b[38;5;124m\"\u001b[39m\u001b[38;5;124mreal-information\u001b[39m\u001b[38;5;124m\"\u001b[39m, state_space_size\u001b[38;5;241m=\u001b[39m\u001b[38;5;241m2\u001b[39m, env\u001b[38;5;241m=\u001b[39mnetwork, trustLevel\u001b[38;5;241m=\u001b[39m\u001b[38;5;241m0\u001b[39m)\n\u001b[0;32m----> 6\u001b[0m fcAgent \u001b[38;5;241m=\u001b[39m \u001b[43mFactCheckerAgent\u001b[49m\u001b[43m(\u001b[49m\u001b[38;5;124;43m\"\u001b[39;49m\u001b[38;5;124;43mfact-checker\u001b[39;49m\u001b[38;5;124;43m\"\u001b[39;49m\u001b[43m)\u001b[49m\n\u001b[1;32m      7\u001b[0m network\u001b[38;5;241m.\u001b[39madd_news_agents_to_network(agentType\u001b[38;5;241m=\u001b[39mfAgent)\n\u001b[1;32m      8\u001b[0m network\u001b[38;5;241m.\u001b[39madd_news_agents_to_network(agentType\u001b[38;5;241m=\u001b[39mrAgent)\n",
      "\u001b[0;31mTypeError\u001b[0m: FactCheckerAgent.__init__() missing 1 required positional argument: 'trustLevel'"
     ]
    }
   ],
   "source": [
    "network = SocialNetworkEnv(numConsumer=4)\n",
    "\n",
    "# created a fake and real info agent and add to a 10 consumer network\n",
    "fAgent = NewsAgent(\"fake-information\", state_space_size=2, env=network, trustLevel=0)\n",
    "rAgent = NewsAgent(\"real-information\", state_space_size=2, env=network, trustLevel=0)\n",
    "fcAgent = FactCheckerAgent(\"fact-checker\", trustLevel=0.0)\n",
    "network.add_news_agents_to_network(agentType=fAgent)\n",
    "network.add_news_agents_to_network(agentType=rAgent)\n",
    "network.add_fact_checker_to_network(agentType=fcAgent)\n",
    "\n",
    "action = network.draw_sample_from_action_space()\n",
    "network.render()"
   ]
  },
  {
   "cell_type": "markdown",
   "metadata": {},
   "source": [
    "### Training"
   ]
  },
  {
   "cell_type": "code",
   "execution_count": null,
   "metadata": {},
   "outputs": [],
   "source": [
    "\n",
    "\n",
    "for _ in range(network.network_size):\n",
    "    obs, reward, done, info = network.step(action, fAgent)\n",
    "    obs2, reward2, done2, info2 = network.step(action, rAgent)\n",
    "\n",
    "    print(\"\\n\\n ------------fake info -------------\")\n",
    "    print(\"Observation:\", obs)\n",
    "    print(\"Reward:\", reward)\n",
    "    print(\"Done:\", done)\n",
    "    print(\"Info:\", info)\n",
    "\n",
    "    print(\"\\n\\n ------------real info -------------\")\n",
    "    print(\"Observation:\", obs2)\n",
    "    print(\"Reward:\", reward2)\n",
    "    print(\"Done:\", done2)\n",
    "    print(\"Info:\", info2)\n"
   ]
  }
 ],
 "metadata": {
  "kernelspec": {
   "display_name": "venv",
   "language": "python",
   "name": "python3"
  },
  "language_info": {
   "codemirror_mode": {
    "name": "ipython",
    "version": 3
   },
   "file_extension": ".py",
   "mimetype": "text/x-python",
   "name": "python",
   "nbconvert_exporter": "python",
   "pygments_lexer": "ipython3",
   "version": "3.12.4"
  }
 },
 "nbformat": 4,
 "nbformat_minor": 2
}
