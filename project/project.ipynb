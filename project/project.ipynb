{
 "cells": [
  {
   "cell_type": "markdown",
   "metadata": {},
   "source": [
    "### Imports"
   ]
  },
  {
   "cell_type": "code",
   "execution_count": null,
   "metadata": {},
   "outputs": [],
   "source": [
    "from agents.fact_checker_agent import FactCheckerAgent\n",
    "from network.socialnetwork import SocialNetworkEnv\n",
    "from agents.news_agent import NewsAgent\n",
    "import numpy as np"
   ]
  },
  {
   "cell_type": "markdown",
   "metadata": {},
   "source": [
    "### Setup"
   ]
  },
  {
   "cell_type": "code",
   "execution_count": null,
   "metadata": {},
   "outputs": [],
   "source": [
    "network = SocialNetworkEnv(numConsumer=5)\n",
    "\n",
    "# created a fake and real info agent and add a few consumers to the network\n",
    "fAgent = NewsAgent(\"fake-information\", state_space_size=2, env=network, trustLevel=0)\n",
    "rAgent = NewsAgent(\"real-information\", state_space_size=2, env=network, trustLevel=0)\n",
    "fcAgent = FactCheckerAgent(\"fact-checker\", trustLevel=0.0, env=network)\n",
    "network.add_news_agents_to_network(agentType=fAgent)\n",
    "network.add_news_agents_to_network(agentType=rAgent)\n",
    "network.add_fact_checker_to_network(agentType=fcAgent)\n",
    "\n",
    "action = network.draw_sample_from_action_space()\n",
    "# network.render()\n",
    "\n",
    "# print(\"---------------- Initial Graph ---------------\")\n",
    "network.print_graph()"
   ]
  },
  {
   "cell_type": "markdown",
   "metadata": {},
   "source": [
    "### Training"
   ]
  },
  {
   "cell_type": "code",
   "execution_count": null,
   "metadata": {},
   "outputs": [],
   "source": [
    "for i in range(network.network_size):\n",
    "    act2 = network.draw_sample_from_action_space()\n",
    "    print(\"ASD\", act2)\n",
    "    obs2, reward2, info2 = network.step(act2, rAgent)\n",
    "    act1 = network.draw_sample_from_action_space()\n",
    "    obs, reward, info = network.step(act1, fAgent)\n",
    "    network.render()\n",
    "    # network.print_graph()\n",
    "\n",
    "    print(f\"--------- epoch {i} ---------------------\")\n",
    "    print(\"\\n\\n ------------fake info -------------\")\n",
    "    print(\"Observation:\", obs)\n",
    "    print(\"Reward:\", reward)\n",
    "    print(\"Info:\", info)\n",
    "\n",
    "    print(\"\\n\\n ------------real info -------------\")\n",
    "    print(\"Observation:\", obs2)\n",
    "    print(\"Reward:\", reward2)\n",
    "    print(\"Info:\", info2)\n"
   ]
  },
  {
   "cell_type": "code",
   "execution_count": null,
   "metadata": {},
   "outputs": [],
   "source": []
  }
 ],
 "metadata": {
  "kernelspec": {
   "display_name": "Python 3",
   "language": "python",
   "name": "python3"
  },
  "language_info": {
   "codemirror_mode": {
    "name": "ipython",
    "version": 3
   },
   "file_extension": ".py",
   "mimetype": "text/x-python",
   "name": "python",
   "nbconvert_exporter": "python",
   "pygments_lexer": "ipython3",
   "version": "3.11.1"
  }
 },
 "nbformat": 4,
 "nbformat_minor": 2
}
